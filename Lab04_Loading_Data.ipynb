{
  "nbformat": 4,
  "nbformat_minor": 0,
  "metadata": {
    "colab": {
      "provenance": [],
      "authorship_tag": "ABX9TyP4nYvvQH8rdePtAhDq4rKZ",
      "include_colab_link": true
    },
    "kernelspec": {
      "name": "python3",
      "display_name": "Python 3"
    },
    "language_info": {
      "name": "python"
    }
  },
  "cells": [
    {
      "cell_type": "markdown",
      "metadata": {
        "id": "view-in-github",
        "colab_type": "text"
      },
      "source": [
        "<a href=\"https://colab.research.google.com/github/kimsoomin20221789/PyTorchExercise/blob/main/Lab04_Loading_Data.ipynb\" target=\"_parent\"><img src=\"https://colab.research.google.com/assets/colab-badge.svg\" alt=\"Open In Colab\"/></a>"
      ]
    },
    {
      "cell_type": "code",
      "source": [
        "import torch"
      ],
      "metadata": {
        "id": "qOn3oVlFhxgD"
      },
      "execution_count": 2,
      "outputs": []
    },
    {
      "cell_type": "code",
      "execution_count": 3,
      "metadata": {
        "id": "j1aa3Ts6f4XY"
      },
      "outputs": [],
      "source": [
        "from torch.utils.data import Dataset\n",
        "\n",
        "class CustomDataset(Dataset):\n",
        "  def __init__(self):\n",
        "    self.x_data = [[73, 80, 75],\n",
        "                   [93, 88, 93],\n",
        "                   [89, 91, 90],\n",
        "                   [96, 98, 100],\n",
        "                   [73, 66, 70]]\n",
        "    self.y_data = [[152], [185], [180], [196], [142]]\n",
        "\n",
        "  def __len__(self):\n",
        "    return len(self.x_data)\n",
        "\n",
        "  def __getitem__(self, idx):\n",
        "    x = torch.FloatTensor(self.x_data[idx])\n",
        "    y = torch.FloatTensor(self.y_data[idx])\n",
        "\n",
        "    return x, y\n",
        "\n",
        "dataset = CustomDataset()\n",
        "\n",
        "\n",
        "from torch.utils.data import DataLoader # Dataset을 상속받은 데이터를 사용함.\n",
        "\n",
        "dataLoader = DataLoader(\n",
        "    dataset,\n",
        "    batch_size = 2,\n",
        "    shuffle = True,\n",
        ")"
      ]
    },
    {
      "cell_type": "code",
      "source": [
        "import torch.nn as nn\n",
        "class MultivariateLinearRegressionModel(nn.Module):\n",
        "  def __init__(self):\n",
        "    super().__init__()\n",
        "    self.linear = nn.Linear(3, 1)\n",
        "  def forward(self, x):\n",
        "    return self.linear(x)"
      ],
      "metadata": {
        "id": "6UvqY4ybiUlZ"
      },
      "execution_count": 4,
      "outputs": []
    },
    {
      "cell_type": "code",
      "source": [
        "model = MultivariateLinearRegressionModel()"
      ],
      "metadata": {
        "id": "A1RLOqSNiqWp"
      },
      "execution_count": 5,
      "outputs": []
    },
    {
      "cell_type": "code",
      "source": [
        "import torch.nn.functional as F"
      ],
      "metadata": {
        "id": "kCOI5HybjCkp"
      },
      "execution_count": 14,
      "outputs": []
    },
    {
      "cell_type": "code",
      "source": [
        "import torch.optim as optim"
      ],
      "metadata": {
        "id": "1TqKKLX6jMCq"
      },
      "execution_count": 20,
      "outputs": []
    },
    {
      "cell_type": "code",
      "source": [
        "optimizer = optim.SGD(model.parameters(), lr=0.01)\n",
        "nb_epochs = 20\n",
        "for epoch in range(nb_epochs + 1):\n",
        "  for batch_idx, samples in enumerate(dataLoader):\n",
        "    x_train, y_train = samples\n",
        "    prediction = model(x_train)\n",
        "    cost = F.mse_loss(prediction, y_train)\n",
        "\n",
        "\n",
        "    optimizer.zero_grad()\n",
        "    cost.backward()\n",
        "    optimizer.step()\n",
        "\n",
        "    print('Epoch: {:4d}/{} Batch {}/{} Cost: {:.6f}'.format(\n",
        "        epoch, nb_epochs, batch_idx+1, len(dataLoader), cost.item()\n",
        "    ))"
      ],
      "metadata": {
        "colab": {
          "base_uri": "https://localhost:8080/"
        },
        "id": "IgKAm2h6hrxo",
        "outputId": "3fbab749-f381-41fb-b27c-4e85d08a8bc0"
      },
      "execution_count": 21,
      "outputs": [
        {
          "output_type": "stream",
          "name": "stdout",
          "text": [
            "Epoch:    0/20 Batch 1/3 Cost: 17905.621094\n",
            "Epoch:    0/20 Batch 2/3 Cost: 3062190592.000000\n",
            "Epoch:    0/20 Batch 3/3 Cost: 471660658425856.000000\n",
            "Epoch:    1/20 Batch 1/3 Cost: 88704692663665819648.000000\n",
            "Epoch:    1/20 Batch 2/3 Cost: 14525486251237478630424576.000000\n",
            "Epoch:    1/20 Batch 3/3 Cost: 3529127382458880563503517663232.000000\n",
            "Epoch:    2/20 Batch 1/3 Cost: 999763465625211166317698871516463104.000000\n",
            "Epoch:    2/20 Batch 2/3 Cost: inf\n",
            "Epoch:    2/20 Batch 3/3 Cost: inf\n",
            "Epoch:    3/20 Batch 1/3 Cost: inf\n",
            "Epoch:    3/20 Batch 2/3 Cost: inf\n",
            "Epoch:    3/20 Batch 3/3 Cost: inf\n",
            "Epoch:    4/20 Batch 1/3 Cost: inf\n",
            "Epoch:    4/20 Batch 2/3 Cost: inf\n",
            "Epoch:    4/20 Batch 3/3 Cost: inf\n",
            "Epoch:    5/20 Batch 1/3 Cost: nan\n",
            "Epoch:    5/20 Batch 2/3 Cost: nan\n",
            "Epoch:    5/20 Batch 3/3 Cost: nan\n",
            "Epoch:    6/20 Batch 1/3 Cost: nan\n",
            "Epoch:    6/20 Batch 2/3 Cost: nan\n",
            "Epoch:    6/20 Batch 3/3 Cost: nan\n",
            "Epoch:    7/20 Batch 1/3 Cost: nan\n",
            "Epoch:    7/20 Batch 2/3 Cost: nan\n",
            "Epoch:    7/20 Batch 3/3 Cost: nan\n",
            "Epoch:    8/20 Batch 1/3 Cost: nan\n",
            "Epoch:    8/20 Batch 2/3 Cost: nan\n",
            "Epoch:    8/20 Batch 3/3 Cost: nan\n",
            "Epoch:    9/20 Batch 1/3 Cost: nan\n",
            "Epoch:    9/20 Batch 2/3 Cost: nan\n",
            "Epoch:    9/20 Batch 3/3 Cost: nan\n",
            "Epoch:   10/20 Batch 1/3 Cost: nan\n",
            "Epoch:   10/20 Batch 2/3 Cost: nan\n",
            "Epoch:   10/20 Batch 3/3 Cost: nan\n",
            "Epoch:   11/20 Batch 1/3 Cost: nan\n",
            "Epoch:   11/20 Batch 2/3 Cost: nan\n",
            "Epoch:   11/20 Batch 3/3 Cost: nan\n",
            "Epoch:   12/20 Batch 1/3 Cost: nan\n",
            "Epoch:   12/20 Batch 2/3 Cost: nan\n",
            "Epoch:   12/20 Batch 3/3 Cost: nan\n",
            "Epoch:   13/20 Batch 1/3 Cost: nan\n",
            "Epoch:   13/20 Batch 2/3 Cost: nan\n",
            "Epoch:   13/20 Batch 3/3 Cost: nan\n",
            "Epoch:   14/20 Batch 1/3 Cost: nan\n",
            "Epoch:   14/20 Batch 2/3 Cost: nan\n",
            "Epoch:   14/20 Batch 3/3 Cost: nan\n",
            "Epoch:   15/20 Batch 1/3 Cost: nan\n",
            "Epoch:   15/20 Batch 2/3 Cost: nan\n",
            "Epoch:   15/20 Batch 3/3 Cost: nan\n",
            "Epoch:   16/20 Batch 1/3 Cost: nan\n",
            "Epoch:   16/20 Batch 2/3 Cost: nan\n",
            "Epoch:   16/20 Batch 3/3 Cost: nan\n",
            "Epoch:   17/20 Batch 1/3 Cost: nan\n",
            "Epoch:   17/20 Batch 2/3 Cost: nan\n",
            "Epoch:   17/20 Batch 3/3 Cost: nan\n",
            "Epoch:   18/20 Batch 1/3 Cost: nan\n",
            "Epoch:   18/20 Batch 2/3 Cost: nan\n",
            "Epoch:   18/20 Batch 3/3 Cost: nan\n",
            "Epoch:   19/20 Batch 1/3 Cost: nan\n",
            "Epoch:   19/20 Batch 2/3 Cost: nan\n",
            "Epoch:   19/20 Batch 3/3 Cost: nan\n",
            "Epoch:   20/20 Batch 1/3 Cost: nan\n",
            "Epoch:   20/20 Batch 2/3 Cost: nan\n",
            "Epoch:   20/20 Batch 3/3 Cost: nan\n"
          ]
        }
      ]
    }
  ]
}