{
  "nbformat": 4,
  "nbformat_minor": 0,
  "metadata": {
    "colab": {
      "provenance": [],
      "authorship_tag": "ABX9TyNgtj78pR5iu1yL2tkQIg9g",
      "include_colab_link": true
    },
    "kernelspec": {
      "name": "python3",
      "display_name": "Python 3"
    },
    "language_info": {
      "name": "python"
    }
  },
  "cells": [
    {
      "cell_type": "markdown",
      "metadata": {
        "id": "view-in-github",
        "colab_type": "text"
      },
      "source": [
        "<a href=\"https://colab.research.google.com/github/kimsoomin20221789/PyTorchExercise/blob/main/Lab07_Tips.ipynb\" target=\"_parent\"><img src=\"https://colab.research.google.com/assets/colab-badge.svg\" alt=\"Open In Colab\"/></a>"
      ]
    },
    {
      "cell_type": "code",
      "execution_count": 1,
      "metadata": {
        "id": "OlYhbntOi0Cj"
      },
      "outputs": [],
      "source": [
        "import torch\n",
        "import torch.nn as nn\n",
        "import torch.nn.functional as F\n",
        "import torch.optim as optim"
      ]
    },
    {
      "cell_type": "code",
      "source": [
        "torch.manual_seed(1)"
      ],
      "metadata": {
        "colab": {
          "base_uri": "https://localhost:8080/"
        },
        "id": "itrWiZ1xOlNK",
        "outputId": "5817c381-f727-433d-bacf-0d240ccf0ff6"
      },
      "execution_count": 2,
      "outputs": [
        {
          "output_type": "execute_result",
          "data": {
            "text/plain": [
              "<torch._C.Generator at 0x7f5988398990>"
            ]
          },
          "metadata": {},
          "execution_count": 2
        }
      ]
    },
    {
      "cell_type": "code",
      "source": [
        "x_train = torch.FloatTensor([[1,2,1],\n",
        "                             [1,3,2],\n",
        "                             [1,3,4],\n",
        "                             [1,5,5],\n",
        "                             [1,7,5],\n",
        "                             [1,2,5],\n",
        "                             [1,6,6],\n",
        "                             [1,7,7]])\n",
        "y_train = torch.LongTensor([2, 2, 2, 1, 1, 1, 0, 0])\n",
        "\n",
        "x_test = torch.FloatTensor([[2,1,1], [3,1,2], [3,3,4]])\n",
        "y_test = torch.LongTensor([2,2,2])"
      ],
      "metadata": {
        "id": "P0bIyYtsPYEI"
      },
      "execution_count": 10,
      "outputs": []
    },
    {
      "cell_type": "code",
      "source": [
        "class SoftmaxClassifierModel(nn.Module):\n",
        "  def __init__(self):\n",
        "    super().__init__()\n",
        "    self.linear = nn.Linear(3, 3) #input : Nx3 (3차원) -> output: Nx3 (3차원)\n",
        "  def forward(self, x):\n",
        "    return self.linear(x)"
      ],
      "metadata": {
        "id": "JhIu1422YoOf"
      },
      "execution_count": 4,
      "outputs": []
    },
    {
      "cell_type": "code",
      "source": [
        "model = SoftmaxClassifierModel()"
      ],
      "metadata": {
        "id": "z8FbP9mqZYB1"
      },
      "execution_count": 5,
      "outputs": []
    },
    {
      "cell_type": "code",
      "source": [
        "optimizer = optim.SGD(model.parameters(), lr = 0.1)"
      ],
      "metadata": {
        "id": "cD5mb9M-Z-9J"
      },
      "execution_count": 6,
      "outputs": []
    },
    {
      "cell_type": "code",
      "source": [
        "def train(model, optimizer, x_train, y_train):\n",
        "  nb_epochs = 20\n",
        "  for epoch in range(nb_epochs):\n",
        "    # H(x)\n",
        "    prediction = model(x_train)\n",
        "    # cost 계산\n",
        "    cost = F.cross_entropy(prediction, y_train)\n",
        "\n",
        "    # cost로 H(x) 개선\n",
        "    optimizer.zero_grad()\n",
        "    cost.backward()\n",
        "    optimizer.step()\n",
        "\n",
        "    print(\"Epoch {:4d}/{} Cost: {:.6f}\".format(epoch, nb_epochs, cost.item()))"
      ],
      "metadata": {
        "id": "chuKP3zWaIp6"
      },
      "execution_count": 7,
      "outputs": []
    },
    {
      "cell_type": "code",
      "source": [
        "def test(model, optimizer, x_test, y_test):\n",
        "  prediction = model(x_test)\n",
        "  predicted_classes = prediction.max(1)[1]\n",
        "  correct_count = (predicted_classes == y_test).sum().item()\n",
        "  cost = F.cross_entropy(prediction, y_test)\n",
        "  print('Accuracy: {}% Cost: {:.6f}'.format(\n",
        "      correct_count / len(y_test) * 100, cost.item()\n",
        "  ))"
      ],
      "metadata": {
        "id": "NMjkCVyoa4mQ"
      },
      "execution_count": 8,
      "outputs": []
    },
    {
      "cell_type": "code",
      "source": [
        "train(model, optimizer, x_train, y_train)\n",
        "test(model, optimizer, x_test, y_test)"
      ],
      "metadata": {
        "colab": {
          "base_uri": "https://localhost:8080/"
        },
        "id": "kj2tCPMegBg3",
        "outputId": "232b71fd-2cb8-4b8b-a7ee-1df9ffc27b41"
      },
      "execution_count": 11,
      "outputs": [
        {
          "output_type": "stream",
          "name": "stdout",
          "text": [
            "Epoch    0/20 Cost: 2.203667\n",
            "Epoch    1/20 Cost: 1.199645\n",
            "Epoch    2/20 Cost: 1.142985\n",
            "Epoch    3/20 Cost: 1.117769\n",
            "Epoch    4/20 Cost: 1.100901\n",
            "Epoch    5/20 Cost: 1.089523\n",
            "Epoch    6/20 Cost: 1.079872\n",
            "Epoch    7/20 Cost: 1.071320\n",
            "Epoch    8/20 Cost: 1.063325\n",
            "Epoch    9/20 Cost: 1.055720\n",
            "Epoch   10/20 Cost: 1.048377\n",
            "Epoch   11/20 Cost: 1.041245\n",
            "Epoch   12/20 Cost: 1.034285\n",
            "Epoch   13/20 Cost: 1.027478\n",
            "Epoch   14/20 Cost: 1.020813\n",
            "Epoch   15/20 Cost: 1.014279\n",
            "Epoch   16/20 Cost: 1.007872\n",
            "Epoch   17/20 Cost: 1.001586\n",
            "Epoch   18/20 Cost: 0.995419\n",
            "Epoch   19/20 Cost: 0.989365\n",
            "Accuracy: 0.0% Cost: 1.425844\n"
          ]
        }
      ]
    },
    {
      "cell_type": "markdown",
      "source": [
        "-> 최적화 되어버린 것"
      ],
      "metadata": {
        "id": "hF-5lABNgZ_5"
      }
    },
    {
      "cell_type": "markdown",
      "source": [
        "# 데이터 전처리\n",
        "데이터가 정규분포를 따른다는 가정하에, 정규분포화 해줌\n"
      ],
      "metadata": {
        "id": "E9d9mdlQhASU"
      }
    },
    {
      "cell_type": "code",
      "source": [
        "x_train = torch.FloatTensor([[1,200,1],\n",
        "                             [1,300,2],\n",
        "                             [1,300,4],\n",
        "                             [1,500,5],\n",
        "                             [1,700,5],\n",
        "                             [1,200,5],\n",
        "                             [1,600,6],\n",
        "                             [1,700,7]])\n",
        "y_train = torch.LongTensor([2, 2, 2, 1, 1, 1, 0, 0])\n",
        "\n",
        "x_test = torch.FloatTensor([[2,1,1], [3,1,2], [3,3,4]])\n",
        "y_test = torch.LongTensor([2,2,2])\n",
        "\n",
        "print(x_train)\n",
        "\n",
        "mu = x_train.mean(dim=0)\n",
        "sigma = x_train.std(dim=0)\n",
        "\n",
        "norm_x_train = (x_train - mu) / sigma\n",
        "\n",
        "print(norm_x_train)"
      ],
      "metadata": {
        "colab": {
          "base_uri": "https://localhost:8080/"
        },
        "id": "KnnsH0-ygI5B",
        "outputId": "b234bad2-2ff7-4112-c831-df72843bb866"
      },
      "execution_count": 14,
      "outputs": [
        {
          "output_type": "stream",
          "name": "stdout",
          "text": [
            "tensor([[  1., 200.,   1.],\n",
            "        [  1., 300.,   2.],\n",
            "        [  1., 300.,   4.],\n",
            "        [  1., 500.,   5.],\n",
            "        [  1., 700.,   5.],\n",
            "        [  1., 200.,   5.],\n",
            "        [  1., 600.,   6.],\n",
            "        [  1., 700.,   7.]])\n",
            "tensor([[    nan, -1.1130, -1.6913],\n",
            "        [    nan, -0.6444, -1.1902],\n",
            "        [    nan, -0.6444, -0.1879],\n",
            "        [    nan,  0.2929,  0.3132],\n",
            "        [    nan,  1.2301,  0.3132],\n",
            "        [    nan, -1.1130,  0.3132],\n",
            "        [    nan,  0.7615,  0.8143],\n",
            "        [    nan,  1.2301,  1.3154]])\n"
          ]
        }
      ]
    },
    {
      "cell_type": "code",
      "source": [],
      "metadata": {
        "id": "2zsMOjRgiqU0"
      },
      "execution_count": null,
      "outputs": []
    }
  ]
}