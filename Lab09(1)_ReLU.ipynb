{
  "nbformat": 4,
  "nbformat_minor": 0,
  "metadata": {
    "colab": {
      "provenance": [],
      "authorship_tag": "ABX9TyNSnvMgOncnTTVFbIlDzwRN",
      "include_colab_link": true
    },
    "kernelspec": {
      "name": "python3",
      "display_name": "Python 3"
    },
    "language_info": {
      "name": "python"
    }
  },
  "cells": [
    {
      "cell_type": "markdown",
      "metadata": {
        "id": "view-in-github",
        "colab_type": "text"
      },
      "source": [
        "<a href=\"https://colab.research.google.com/github/kimsoomin20221789/PyTorchExercise/blob/main/Lab09(1)_ReLU.ipynb\" target=\"_parent\"><img src=\"https://colab.research.google.com/assets/colab-badge.svg\" alt=\"Open In Colab\"/></a>"
      ]
    },
    {
      "cell_type": "markdown",
      "source": [
        "활성화 함수로 sigmoid 함수를 사용할 시, 양 끝 값 (0 or 1) 에서 gradient가 전파가 되지 않고 소멸된다.\n",
        "\n",
        "Relu 함수를 사용하면 gradient가 작아지는 방향으로 향하게 된다"
      ],
      "metadata": {
        "id": "Tds0BeAf1m1m"
      }
    },
    {
      "cell_type": "code",
      "execution_count": 1,
      "metadata": {
        "id": "3lrgJMvwuU-y"
      },
      "outputs": [],
      "source": [
        "learning_rate = 0.001\n",
        "training_epochs = 15\n",
        "batch_size = 100"
      ]
    },
    {
      "cell_type": "code",
      "source": [
        "import torch\n",
        "\n",
        "device = torch.device(\"cuda\" if torch.cuda.is_available() else \"cpu\")\n",
        "\n",
        "linear1 = torch.nn.Linear(784, 256, bias = True).to(device)\n",
        "linear2 = torch.nn.Linear(256, 256, bias = True).to(device)\n",
        "linear3 = torch.nn.Linear(256, 10, bias = True).to(device)\n",
        "\n",
        "relu = torch.nn.ReLU()"
      ],
      "metadata": {
        "id": "iz-cfGs-5T4Q"
      },
      "execution_count": 3,
      "outputs": []
    },
    {
      "cell_type": "code",
      "source": [
        "torch.nn.init.normal_(linear1.weight)\n",
        "torch.nn.init.normal_(linear2.weight)\n",
        "torch.nn.init.normal_(linear3.weight)"
      ],
      "metadata": {
        "colab": {
          "base_uri": "https://localhost:8080/"
        },
        "id": "B-4Kb89d5vTK",
        "outputId": "d5f692f0-6034-43ba-9c95-9604ed961595"
      },
      "execution_count": 4,
      "outputs": [
        {
          "output_type": "execute_result",
          "data": {
            "text/plain": [
              "Parameter containing:\n",
              "tensor([[-0.6880,  2.6660, -0.5872,  ...,  1.9386, -0.4474,  0.3098],\n",
              "        [ 0.6850,  1.2592,  0.4732,  ..., -2.0941, -0.6819, -0.7193],\n",
              "        [-1.1195, -0.0688, -0.5455,  ...,  2.9315, -1.6762, -1.3087],\n",
              "        ...,\n",
              "        [-0.9942, -0.5406,  0.4948,  ...,  0.5051, -0.0726,  1.2694],\n",
              "        [-1.1678,  1.7052, -0.4667,  ..., -0.9379,  1.4348,  0.3570],\n",
              "        [-1.1218,  0.2781, -0.2706,  ...,  0.7489,  0.7959,  0.8382]],\n",
              "       requires_grad=True)"
            ]
          },
          "metadata": {},
          "execution_count": 4
        }
      ]
    },
    {
      "cell_type": "code",
      "source": [
        "model = torch.nn.Sequential(linear1, relu, linear2, relu, linear3).to(device)"
      ],
      "metadata": {
        "id": "u8nQyy9q-e0t"
      },
      "execution_count": 5,
      "outputs": []
    },
    {
      "cell_type": "code",
      "source": [
        "criterion = torch.nn.CrossEntropyLoss().to(device)\n",
        "optimizer = torch.optim.Adam(model.parameters(), lr = learning_rate)"
      ],
      "metadata": {
        "id": "ghAZTTmu-opV"
      },
      "execution_count": 6,
      "outputs": []
    }
  ]
}