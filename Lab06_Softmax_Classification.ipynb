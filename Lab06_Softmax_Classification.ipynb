{
  "nbformat": 4,
  "nbformat_minor": 0,
  "metadata": {
    "colab": {
      "provenance": [],
      "authorship_tag": "ABX9TyN22lOwK9FZ+dULoRXnzGYN",
      "include_colab_link": true
    },
    "kernelspec": {
      "name": "python3",
      "display_name": "Python 3"
    },
    "language_info": {
      "name": "python"
    }
  },
  "cells": [
    {
      "cell_type": "markdown",
      "metadata": {
        "id": "view-in-github",
        "colab_type": "text"
      },
      "source": [
        "<a href=\"https://colab.research.google.com/github/kimsoomin20221789/PyTorchExercise/blob/main/Lab06_Softmax_Classification.ipynb\" target=\"_parent\"><img src=\"https://colab.research.google.com/assets/colab-badge.svg\" alt=\"Open In Colab\"/></a>"
      ]
    },
    {
      "cell_type": "markdown",
      "source": [
        "Rogistic Regression은 class가 두개(0 or 1) 로 분류되었습니다.\n",
        "따라서 H(x)는 sigmoid를 사용하였고, loss Function은 BCE (Binary Cross Entropy)를 사용하였습니다.\n",
        "\n",
        "Softmax Classification은 class 가 여러개로 분류됩니다.\n",
        "따라서 H(x)는 softMax를 사용하고, loss Function은 CE (Cross Entropy)를 사용합니다."
      ],
      "metadata": {
        "id": "kS3c47fTU4Vi"
      }
    },
    {
      "cell_type": "code",
      "execution_count": 1,
      "metadata": {
        "id": "PiXDKd5QUeXX"
      },
      "outputs": [],
      "source": [
        "# import\n",
        "import torch\n",
        "import torch.nn as nn\n",
        "import torch.nn.functional as F\n",
        "import torch.optim as optim"
      ]
    },
    {
      "cell_type": "code",
      "source": [
        "torch.manual_seed(1)"
      ],
      "metadata": {
        "colab": {
          "base_uri": "https://localhost:8080/"
        },
        "id": "NQeDpGGWVd16",
        "outputId": "c50639c4-bf94-4ce0-8be5-9a70439074e8"
      },
      "execution_count": 2,
      "outputs": [
        {
          "output_type": "execute_result",
          "data": {
            "text/plain": [
              "<torch._C.Generator at 0x7d3e2269cab0>"
            ]
          },
          "metadata": {},
          "execution_count": 2
        }
      ]
    },
    {
      "cell_type": "markdown",
      "source": [
        "# Softmax"
      ],
      "metadata": {
        "id": "GtknxIjcVj3q"
      }
    },
    {
      "cell_type": "code",
      "source": [
        "z = torch.FloatTensor([1, 2, 3])"
      ],
      "metadata": {
        "id": "AJ8nTX7BVgBX"
      },
      "execution_count": 4,
      "outputs": []
    },
    {
      "cell_type": "code",
      "source": [
        "hypothesis = F.softmax(z, dim=0) # softmax 함수\n",
        "print(hypothesis)"
      ],
      "metadata": {
        "colab": {
          "base_uri": "https://localhost:8080/"
        },
        "id": "L04RUDZ7V2dh",
        "outputId": "3db5afcc-535e-4390-99c3-dd14a7fc6311"
      },
      "execution_count": 5,
      "outputs": [
        {
          "output_type": "stream",
          "name": "stdout",
          "text": [
            "tensor([0.0900, 0.2447, 0.6652])\n"
          ]
        }
      ]
    },
    {
      "cell_type": "code",
      "source": [
        "hypothesis.sum()"
      ],
      "metadata": {
        "colab": {
          "base_uri": "https://localhost:8080/"
        },
        "id": "IV6d-F2pV-XO",
        "outputId": "4f1c2a63-3bb1-4f23-c4cf-a25261006db4"
      },
      "execution_count": 6,
      "outputs": [
        {
          "output_type": "execute_result",
          "data": {
            "text/plain": [
              "tensor(1.)"
            ]
          },
          "metadata": {},
          "execution_count": 6
        }
      ]
    },
    {
      "cell_type": "markdown",
      "source": [
        "# Cross Entropy"
      ],
      "metadata": {
        "id": "C0GKcZO3VmUJ"
      }
    },
    {
      "cell_type": "code",
      "source": [
        "z = torch.rand(3, 5, requires_grad = True)\n",
        "hypothesis = F.softmax(z, dim=1)\n",
        "print(hypothesis)"
      ],
      "metadata": {
        "colab": {
          "base_uri": "https://localhost:8080/"
        },
        "id": "WqxL0iLWVqTM",
        "outputId": "5bf49d5c-b924-47a0-bcbc-028ed3d0b24b"
      },
      "execution_count": 7,
      "outputs": [
        {
          "output_type": "stream",
          "name": "stdout",
          "text": [
            "tensor([[0.2645, 0.1639, 0.1855, 0.2585, 0.1277],\n",
            "        [0.2430, 0.1624, 0.2322, 0.1930, 0.1694],\n",
            "        [0.2226, 0.1986, 0.2326, 0.1594, 0.1868]], grad_fn=<SoftmaxBackward0>)\n"
          ]
        }
      ]
    },
    {
      "cell_type": "code",
      "source": [
        "y = torch.randint(5, (3,)).long()\n",
        "print(y)"
      ],
      "metadata": {
        "colab": {
          "base_uri": "https://localhost:8080/"
        },
        "id": "ZJ6VKQC8WlNJ",
        "outputId": "379a4f4b-bdbc-4f8f-b09c-0a053a100f03"
      },
      "execution_count": 9,
      "outputs": [
        {
          "output_type": "stream",
          "name": "stdout",
          "text": [
            "tensor([2, 1, 0])\n"
          ]
        }
      ]
    },
    {
      "cell_type": "code",
      "source": [
        "y_one_hot = torch.zeros_like(hypothesis)"
      ],
      "metadata": {
        "id": "RCne6VouWpqf"
      },
      "execution_count": 10,
      "outputs": []
    },
    {
      "cell_type": "code",
      "source": [
        "y_one_hot"
      ],
      "metadata": {
        "colab": {
          "base_uri": "https://localhost:8080/"
        },
        "id": "YWkqB7XYW1tD",
        "outputId": "19c289ea-f2a0-4bd8-ae4d-a8cd79258b52"
      },
      "execution_count": 11,
      "outputs": [
        {
          "output_type": "execute_result",
          "data": {
            "text/plain": [
              "tensor([[0., 0., 0., 0., 0.],\n",
              "        [0., 0., 0., 0., 0.],\n",
              "        [0., 0., 0., 0., 0.]])"
            ]
          },
          "metadata": {},
          "execution_count": 11
        }
      ]
    },
    {
      "cell_type": "code",
      "source": [
        "# a.scatter_(dim, index, value)\n",
        "# a 배열의 dim차원의 배열에서 index 자리에 value를 할당\n",
        "y_one_hot.scatter_(1, y.unsqueeze(1), 1)"
      ],
      "metadata": {
        "colab": {
          "base_uri": "https://localhost:8080/"
        },
        "id": "c1FaFPvyW2pK",
        "outputId": "941beec4-e5b6-46b4-c383-9be744dbee59"
      },
      "execution_count": 13,
      "outputs": [
        {
          "output_type": "execute_result",
          "data": {
            "text/plain": [
              "tensor([[0., 0., 1., 0., 0.],\n",
              "        [0., 1., 0., 0., 0.],\n",
              "        [1., 0., 0., 0., 0.]])"
            ]
          },
          "metadata": {},
          "execution_count": 13
        }
      ]
    },
    {
      "cell_type": "code",
      "source": [
        "cost = (y_one_hot * -torch.log(hypothesis)).sum(dim=1).mean()\n",
        "print(cost)\n",
        "cost = F.nll_loss(F.log_softmax(z, dim=1), y)\n",
        "print(cost)\n",
        "cost = F.cross_entropy(z, y)\n",
        "print(cost)"
      ],
      "metadata": {
        "colab": {
          "base_uri": "https://localhost:8080/"
        },
        "id": "Mpd3PDW9X2Ik",
        "outputId": "6e0b4392-3c7d-48fa-f4ef-e7f6822dc4b8"
      },
      "execution_count": 16,
      "outputs": [
        {
          "output_type": "stream",
          "name": "stdout",
          "text": [
            "tensor(1.6682, grad_fn=<MeanBackward0>)\n",
            "tensor(1.6682, grad_fn=<NllLossBackward0>)\n",
            "tensor(1.6682, grad_fn=<NllLossBackward0>)\n"
          ]
        }
      ]
    },
    {
      "cell_type": "markdown",
      "source": [
        "# Training with Low-level Cross Entrpoy Loss"
      ],
      "metadata": {
        "id": "c4j4sDzHay8q"
      }
    },
    {
      "cell_type": "code",
      "source": [
        "x_train = [[1, 2, 1, 1],\n",
        "           [2, 1, 3, 2],\n",
        "           [3, 1, 3, 4],\n",
        "           [4, 1, 5, 5],\n",
        "           [1, 7, 5, 5],\n",
        "           [1, 2, 5, 6],\n",
        "           [1, 6, 6, 6],\n",
        "           [1, 7, 7, 7]]\n",
        "y_train = [2, 2, 2, 1, 1, 1, 0, 0]\n",
        "x_train = torch.FloatTensor(x_train)\n",
        "y_train = torch.LongTensor(y_train)"
      ],
      "metadata": {
        "id": "BDBWSe0Ia4BZ"
      },
      "execution_count": 18,
      "outputs": []
    },
    {
      "cell_type": "code",
      "source": [
        "W = torch.zeros((4, 3), requires_grad = True)\n",
        "b = torch.zeros(1, requires_grad = True)"
      ],
      "metadata": {
        "id": "DxazNA4PYLwD"
      },
      "execution_count": 17,
      "outputs": []
    },
    {
      "cell_type": "code",
      "source": [
        "optimizer = optim.SGD([W, b], lr = 0.1)\n",
        "\n",
        "nb_epochs = 1000\n",
        "for epoch in range(nb_epochs + 1):\n",
        "\n",
        "  # cost (CE) 계산 1\n",
        "  hypothesis = F.softmax(x_train.matmul(W) + b, dim=1)\n",
        "  y_one_hot = torch.zeros_like(hypothesis)\n",
        "  y_one_hot.scatter_(1, y_train.unsqueeze(1), 1)\n",
        "  cost = (y_one_hot * -torch.log(F.softmax(hypothesis, dim=1))).sum(dim=1)\n",
        "\n",
        "  # cost (CE) 계산 2\n",
        "  z = x_train.matmul(W) + b\n",
        "  cost = F.cross_entropy(z, y_train)\n",
        "\n",
        "  # cost로 H(x) 개선\n",
        "  optimizer.zero_grad()\n",
        "  cost.backward()\n",
        "  optimizer.step()\n",
        "\n",
        "  if epoch % 100 == 0:\n",
        "    print('Epoch: {} / {} Cost: {:.6f}'.format(epoch, nb_epochs, cost.item()))"
      ],
      "metadata": {
        "colab": {
          "base_uri": "https://localhost:8080/"
        },
        "id": "1oktGWGYacRo",
        "outputId": "ccb4e7f9-4286-4e88-d995-3710ad61413c"
      },
      "execution_count": 25,
      "outputs": [
        {
          "output_type": "stream",
          "name": "stdout",
          "text": [
            "Epoch: 0 / 1000 Cost: 0.399290\n",
            "Epoch: 100 / 1000 Cost: 0.365709\n",
            "Epoch: 200 / 1000 Cost: 0.333016\n",
            "Epoch: 300 / 1000 Cost: 0.306667\n",
            "Epoch: 400 / 1000 Cost: 0.294459\n",
            "Epoch: 500 / 1000 Cost: 0.285098\n",
            "Epoch: 600 / 1000 Cost: 0.276318\n",
            "Epoch: 700 / 1000 Cost: 0.268061\n",
            "Epoch: 800 / 1000 Cost: 0.260277\n",
            "Epoch: 900 / 1000 Cost: 0.252923\n",
            "Epoch: 1000 / 1000 Cost: 0.245962\n"
          ]
        }
      ]
    },
    {
      "cell_type": "code",
      "source": [
        "print(hypothesis)"
      ],
      "metadata": {
        "colab": {
          "base_uri": "https://localhost:8080/"
        },
        "id": "qGU8hLmRbOmO",
        "outputId": "98b37d08-9be5-40e7-d610-aa832f903ecf"
      },
      "execution_count": 22,
      "outputs": [
        {
          "output_type": "stream",
          "name": "stdout",
          "text": [
            "tensor([[1.2586e-03, 3.0853e-02, 9.6789e-01],\n",
            "        [1.5323e-02, 3.1147e-01, 6.7321e-01],\n",
            "        [1.1016e-05, 4.6428e-01, 5.3571e-01],\n",
            "        [1.6931e-05, 7.1985e-01, 2.8013e-01],\n",
            "        [2.3945e-01, 7.2620e-01, 3.4348e-02],\n",
            "        [1.0334e-01, 8.9665e-01, 1.5851e-06],\n",
            "        [4.6349e-01, 5.3637e-01, 1.4025e-04],\n",
            "        [6.0477e-01, 3.9522e-01, 1.3691e-05]], grad_fn=<SoftmaxBackward0>)\n"
          ]
        }
      ]
    },
    {
      "cell_type": "code",
      "source": [
        "prediction = hypothesis >= torch.FloatTensor([0.5])"
      ],
      "metadata": {
        "id": "KvcYzEcGcRWy"
      },
      "execution_count": 26,
      "outputs": []
    },
    {
      "cell_type": "code",
      "source": [
        "print(prediction)"
      ],
      "metadata": {
        "colab": {
          "base_uri": "https://localhost:8080/"
        },
        "id": "B07coEkmccY8",
        "outputId": "2f55ebac-9653-4e28-c48c-73bc57bdcd11"
      },
      "execution_count": 27,
      "outputs": [
        {
          "output_type": "stream",
          "name": "stdout",
          "text": [
            "tensor([[False, False,  True],\n",
            "        [False, False,  True],\n",
            "        [False, False,  True],\n",
            "        [False,  True, False],\n",
            "        [False,  True, False],\n",
            "        [False,  True, False],\n",
            "        [ True, False, False],\n",
            "        [ True, False, False]])\n"
          ]
        }
      ]
    },
    {
      "cell_type": "markdown",
      "source": [
        "# High-level Implementaion with nn.Module"
      ],
      "metadata": {
        "id": "W7SeHUl-dTIy"
      }
    },
    {
      "cell_type": "code",
      "source": [
        "class SoftmaxClassifierModel(nn.Module):\n",
        "  def __init__(self):\n",
        "    super().__init__()\n",
        "    self.linear = nn.Linear(4, 3) # 입력 차원이 4 (class 4) -> 출력 차원 3 (class 3)\n",
        "\n",
        "  def forward(self, x):\n",
        "    return self.linear(x)"
      ],
      "metadata": {
        "id": "McO0J5Dicd8O"
      },
      "execution_count": 32,
      "outputs": []
    },
    {
      "cell_type": "code",
      "source": [
        "model = SoftmaxClassifierModel()"
      ],
      "metadata": {
        "id": "wqFNy1jFd1gY"
      },
      "execution_count": 33,
      "outputs": []
    },
    {
      "cell_type": "code",
      "source": [
        "optimizer = optim.SGD(model.parameters(), lr = 0.1)\n",
        "nb_epochs = 1000\n",
        "for epoch in range(nb_epochs+1):\n",
        "  prediction = model(x_train)\n",
        "  cost = F.cross_entropy(prediction, y_train)\n",
        "\n",
        "  optimizer.zero_grad()\n",
        "  cost.backward()\n",
        "  optimizer.step()\n",
        "\n",
        "  if epoch%100 == 0:\n",
        "    print('Epoch {:4d}/{} Cost: {:.6f}'.format(\n",
        "        epoch, nb_epochs, cost.item()\n",
        "    ))"
      ],
      "metadata": {
        "colab": {
          "base_uri": "https://localhost:8080/"
        },
        "id": "_mD3VXCId6ob",
        "outputId": "5949fd08-ac8d-4864-fa21-41a29cf4d018"
      },
      "execution_count": 34,
      "outputs": [
        {
          "output_type": "stream",
          "name": "stdout",
          "text": [
            "Epoch    0/1000 Cost: 4.661125\n",
            "Epoch  100/1000 Cost: 0.711834\n",
            "Epoch  200/1000 Cost: 0.630354\n",
            "Epoch  300/1000 Cost: 0.573769\n",
            "Epoch  400/1000 Cost: 0.523962\n",
            "Epoch  500/1000 Cost: 0.476843\n",
            "Epoch  600/1000 Cost: 0.430889\n",
            "Epoch  700/1000 Cost: 0.385375\n",
            "Epoch  800/1000 Cost: 0.339987\n",
            "Epoch  900/1000 Cost: 0.295069\n",
            "Epoch 1000/1000 Cost: 0.254579\n"
          ]
        }
      ]
    },
    {
      "cell_type": "code",
      "source": [
        "hypothesis >= torch.FloatTensor([0.5])"
      ],
      "metadata": {
        "colab": {
          "base_uri": "https://localhost:8080/"
        },
        "id": "A2pv79BBe_-5",
        "outputId": "fcff4dec-4408-47cf-e346-caa75dcf69a8"
      },
      "execution_count": 35,
      "outputs": [
        {
          "output_type": "execute_result",
          "data": {
            "text/plain": [
              "tensor([[False, False,  True],\n",
              "        [False, False,  True],\n",
              "        [False, False,  True],\n",
              "        [False,  True, False],\n",
              "        [False,  True, False],\n",
              "        [False,  True, False],\n",
              "        [ True, False, False],\n",
              "        [ True, False, False]])"
            ]
          },
          "metadata": {},
          "execution_count": 35
        }
      ]
    }
  ]
}