{
  "nbformat": 4,
  "nbformat_minor": 0,
  "metadata": {
    "colab": {
      "provenance": [],
      "authorship_tag": "ABX9TyPW+cy/3m4RlpS46/wq/X7w",
      "include_colab_link": true
    },
    "kernelspec": {
      "name": "python3",
      "display_name": "Python 3"
    },
    "language_info": {
      "name": "python"
    }
  },
  "cells": [
    {
      "cell_type": "markdown",
      "metadata": {
        "id": "view-in-github",
        "colab_type": "text"
      },
      "source": [
        "<a href=\"https://colab.research.google.com/github/kimsoomin20221789/PyTorchExercise/blob/main/Lab03_Deeper_LookAt_GD.ipynb\" target=\"_parent\"><img src=\"https://colab.research.google.com/assets/colab-badge.svg\" alt=\"Open In Colab\"/></a>"
      ]
    },
    {
      "cell_type": "code",
      "execution_count": 1,
      "metadata": {
        "id": "RHlgqGflPOuC"
      },
      "outputs": [],
      "source": [
        "import torch"
      ]
    },
    {
      "cell_type": "code",
      "source": [
        "x_train = torch.FloatTensor([[1], [2], [3]])\n",
        "y_train = torch.FloatTensor([[1], [2], [3]])\n",
        "\n",
        "W = torch.zeros(1, requires_grad = True)"
      ],
      "metadata": {
        "id": "5qWSgM7pQhzE"
      },
      "execution_count": 2,
      "outputs": []
    },
    {
      "cell_type": "code",
      "source": [
        "import torch.optim as optim"
      ],
      "metadata": {
        "id": "-2829owlQwRA"
      },
      "execution_count": 3,
      "outputs": []
    },
    {
      "cell_type": "code",
      "source": [
        "optimizer = optim.SGD([W], lr=0.15)"
      ],
      "metadata": {
        "id": "1mRo6JLoQ5jO"
      },
      "execution_count": 4,
      "outputs": []
    },
    {
      "cell_type": "code",
      "source": [
        "nb_epochs = 10\n",
        "for epoch in range(nb_epochs + 1):\n",
        "  hypothesis = x_train * W\n",
        "  cost = torch.mean((hypothesis - y_train) ** 2)\n",
        "  print('Epoch {:4d}/{} W: {:.3f} Cost: {:.6f}'.format(\n",
        "      epoch, nb_epochs, W.item(), cost.item()\n",
        "  ))\n",
        "\n",
        "  optimizer.zero_grad()\n",
        "  cost.backward()\n",
        "  optimizer.step()"
      ],
      "metadata": {
        "colab": {
          "base_uri": "https://localhost:8080/"
        },
        "id": "rgbyl0odRW_G",
        "outputId": "dfd7cdac-9078-40ca-84e6-29b87d22c0a8"
      },
      "execution_count": 5,
      "outputs": [
        {
          "output_type": "stream",
          "name": "stdout",
          "text": [
            "Epoch    0/10 W: 0.000 Cost: 4.666667\n",
            "Epoch    1/10 W: 1.400 Cost: 0.746667\n",
            "Epoch    2/10 W: 0.840 Cost: 0.119467\n",
            "Epoch    3/10 W: 1.064 Cost: 0.019115\n",
            "Epoch    4/10 W: 0.974 Cost: 0.003058\n",
            "Epoch    5/10 W: 1.010 Cost: 0.000489\n",
            "Epoch    6/10 W: 0.996 Cost: 0.000078\n",
            "Epoch    7/10 W: 1.002 Cost: 0.000013\n",
            "Epoch    8/10 W: 0.999 Cost: 0.000002\n",
            "Epoch    9/10 W: 1.000 Cost: 0.000000\n",
            "Epoch   10/10 W: 1.000 Cost: 0.000000\n"
          ]
        }
      ]
    },
    {
      "cell_type": "code",
      "source": [
        "lr = 0.1\n",
        "W = torch.zeros(1)\n",
        "\n",
        "nb_epochs = 10\n",
        "\n",
        "for epoch in range(nb_epochs + 1):\n",
        "  hypothesis = x_train * W\n",
        "  cost = torch.mean((hypothesis - y_train) ** 2)\n",
        "\n",
        "  gradient = torch.sum((W * x_train - y_train) * x_train)\n",
        "\n",
        "  W -= lr * gradient"
      ],
      "metadata": {
        "id": "Zq1RRYteSHqk"
      },
      "execution_count": 6,
      "outputs": []
    },
    {
      "cell_type": "markdown",
      "source": [
        "현재 위의 코드는 SGD를 사용한 optimizer의 방식을 코드로 표현하였습니다.\n",
        "\n",
        "위의 코드에서는 cost를 W로 미분한 값인 gradient(기울기)를 정의하였고,\n",
        "\n",
        "기울기의 반대방향으로 파라미터(W)의 값을 일정비율만큼 이동시키고 있습니다."
      ],
      "metadata": {
        "id": "MYRa3tI_UNmO"
      }
    }
  ]
}